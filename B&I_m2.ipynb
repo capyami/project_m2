{
 "cells": [
  {
   "cell_type": "markdown",
   "id": "b8471cff",
   "metadata": {},
   "source": [
    "## Bitcoin & inflaction\n"
   ]
  },
  {
   "cell_type": "code",
   "execution_count": 17,
   "id": "95f626ae",
   "metadata": {},
   "outputs": [],
   "source": [
    "import pandas as pd\n",
    "import numpy as np"
   ]
  },
  {
   "cell_type": "markdown",
   "id": "295a165e",
   "metadata": {},
   "source": [
    "Bitcoin"
   ]
  },
  {
   "cell_type": "code",
   "execution_count": 18,
   "id": "981b1abc",
   "metadata": {},
   "outputs": [],
   "source": [
    "columns = ['instrument', 'amount', 'Profit investment', 'Return investment', '% profit']"
   ]
  },
  {
   "cell_type": "code",
   "execution_count": 19,
   "id": "25956470",
   "metadata": {},
   "outputs": [],
   "source": [
    "data = [['Bitcoin', 10000, 2067000, 2077000, 20670],\n",
    "       ['Inflaction', 10000, -1520, 8480, -15]]"
   ]
  },
  {
   "cell_type": "code",
   "execution_count": 20,
   "id": "74c444ca",
   "metadata": {},
   "outputs": [
    {
     "data": {
      "text/html": [
       "<div>\n",
       "<style scoped>\n",
       "    .dataframe tbody tr th:only-of-type {\n",
       "        vertical-align: middle;\n",
       "    }\n",
       "\n",
       "    .dataframe tbody tr th {\n",
       "        vertical-align: top;\n",
       "    }\n",
       "\n",
       "    .dataframe thead th {\n",
       "        text-align: right;\n",
       "    }\n",
       "</style>\n",
       "<table border=\"1\" class=\"dataframe\">\n",
       "  <thead>\n",
       "    <tr style=\"text-align: right;\">\n",
       "      <th></th>\n",
       "      <th>instrument</th>\n",
       "      <th>amount</th>\n",
       "      <th>Profit investment</th>\n",
       "      <th>Return investment</th>\n",
       "      <th>% profit</th>\n",
       "    </tr>\n",
       "  </thead>\n",
       "  <tbody>\n",
       "    <tr>\n",
       "      <th>0</th>\n",
       "      <td>Bitcoin</td>\n",
       "      <td>10000</td>\n",
       "      <td>2067000</td>\n",
       "      <td>2077000</td>\n",
       "      <td>20670</td>\n",
       "    </tr>\n",
       "    <tr>\n",
       "      <th>1</th>\n",
       "      <td>Inflaction</td>\n",
       "      <td>10000</td>\n",
       "      <td>-1520</td>\n",
       "      <td>8480</td>\n",
       "      <td>-15</td>\n",
       "    </tr>\n",
       "  </tbody>\n",
       "</table>\n",
       "</div>"
      ],
      "text/plain": [
       "   instrument  amount  Profit investment  Return investment  % profit\n",
       "0     Bitcoin   10000            2067000            2077000     20670\n",
       "1  Inflaction   10000              -1520               8480       -15"
      ]
     },
     "execution_count": 20,
     "metadata": {},
     "output_type": "execute_result"
    }
   ],
   "source": [
    "df_extra_power_bi = pd.DataFrame(data, columns = ['instrument', 'amount', 'Profit investment',\n",
    "                                                  'Return investment', '% profit'])\n",
    "df_extra_power_bi"
   ]
  },
  {
   "cell_type": "code",
   "execution_count": 21,
   "id": "fd987a22",
   "metadata": {},
   "outputs": [],
   "source": [
    "df_extra_power_bi.to_csv('./data/b_and_i_pbi.csv')"
   ]
  },
  {
   "cell_type": "code",
   "execution_count": 25,
   "id": "f637b69e",
   "metadata": {},
   "outputs": [
    {
     "data": {
      "text/html": [
       "<div>\n",
       "<style scoped>\n",
       "    .dataframe tbody tr th:only-of-type {\n",
       "        vertical-align: middle;\n",
       "    }\n",
       "\n",
       "    .dataframe tbody tr th {\n",
       "        vertical-align: top;\n",
       "    }\n",
       "\n",
       "    .dataframe thead th {\n",
       "        text-align: right;\n",
       "    }\n",
       "</style>\n",
       "<table border=\"1\" class=\"dataframe\">\n",
       "  <thead>\n",
       "    <tr style=\"text-align: right;\">\n",
       "      <th></th>\n",
       "      <th>instrument</th>\n",
       "      <th>amount</th>\n",
       "      <th>Profit investment</th>\n",
       "      <th>Return investment</th>\n",
       "      <th>% profit</th>\n",
       "    </tr>\n",
       "  </thead>\n",
       "  <tbody>\n",
       "    <tr>\n",
       "      <th>0</th>\n",
       "      <td>Bitcoin</td>\n",
       "      <td>10000</td>\n",
       "      <td>2067000</td>\n",
       "      <td>2077000</td>\n",
       "      <td>20670</td>\n",
       "    </tr>\n",
       "  </tbody>\n",
       "</table>\n",
       "</div>"
      ],
      "text/plain": [
       "  instrument amount Profit investment Return investment % profit\n",
       "0    Bitcoin  10000           2067000           2077000    20670"
      ]
     },
     "execution_count": 25,
     "metadata": {},
     "output_type": "execute_result"
    }
   ],
   "source": [
    "df_extra_power_bi_b = pd.DataFrame(df_extra_power_bi.iloc[0])\n",
    "df_extra_power_bi_b = df_extra_power_bi_b.transpose()\n",
    "df_extra_power_bi_b"
   ]
  },
  {
   "cell_type": "code",
   "execution_count": 27,
   "id": "bbed2fc8",
   "metadata": {},
   "outputs": [],
   "source": [
    "df_extra_power_bi_b.to_csv('./data/b_pbi.csv')"
   ]
  },
  {
   "cell_type": "code",
   "execution_count": 28,
   "id": "7a7c20db",
   "metadata": {},
   "outputs": [
    {
     "data": {
      "text/html": [
       "<div>\n",
       "<style scoped>\n",
       "    .dataframe tbody tr th:only-of-type {\n",
       "        vertical-align: middle;\n",
       "    }\n",
       "\n",
       "    .dataframe tbody tr th {\n",
       "        vertical-align: top;\n",
       "    }\n",
       "\n",
       "    .dataframe thead th {\n",
       "        text-align: right;\n",
       "    }\n",
       "</style>\n",
       "<table border=\"1\" class=\"dataframe\">\n",
       "  <thead>\n",
       "    <tr style=\"text-align: right;\">\n",
       "      <th></th>\n",
       "      <th>instrument</th>\n",
       "      <th>amount</th>\n",
       "      <th>Profit investment</th>\n",
       "      <th>Return investment</th>\n",
       "      <th>% profit</th>\n",
       "    </tr>\n",
       "  </thead>\n",
       "  <tbody>\n",
       "    <tr>\n",
       "      <th>1</th>\n",
       "      <td>Inflaction</td>\n",
       "      <td>10000</td>\n",
       "      <td>-1520</td>\n",
       "      <td>8480</td>\n",
       "      <td>-15</td>\n",
       "    </tr>\n",
       "  </tbody>\n",
       "</table>\n",
       "</div>"
      ],
      "text/plain": [
       "   instrument amount Profit investment Return investment % profit\n",
       "1  Inflaction  10000             -1520              8480      -15"
      ]
     },
     "execution_count": 28,
     "metadata": {},
     "output_type": "execute_result"
    }
   ],
   "source": [
    "df_extra_power_bi_i = pd.DataFrame(df_extra_power_bi.iloc[1])\n",
    "df_extra_power_bi_i = df_extra_power_bi_i.transpose()\n",
    "df_extra_power_bi_i"
   ]
  },
  {
   "cell_type": "code",
   "execution_count": 29,
   "id": "f9b94348",
   "metadata": {},
   "outputs": [],
   "source": [
    "df_extra_power_bi_i.to_csv('./data/i_pbi.csv')"
   ]
  }
 ],
 "metadata": {
  "kernelspec": {
   "display_name": "Python [conda env:m2_env]",
   "language": "python",
   "name": "conda-env-m2_env-py"
  },
  "language_info": {
   "codemirror_mode": {
    "name": "ipython",
    "version": 3
   },
   "file_extension": ".py",
   "mimetype": "text/x-python",
   "name": "python",
   "nbconvert_exporter": "python",
   "pygments_lexer": "ipython3",
   "version": "3.9.16"
  }
 },
 "nbformat": 4,
 "nbformat_minor": 5
}
